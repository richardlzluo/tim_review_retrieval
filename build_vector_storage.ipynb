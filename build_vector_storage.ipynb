{
 "cells": [
  {
   "cell_type": "code",
   "execution_count": null,
   "metadata": {},
   "outputs": [
    {
     "data": {
      "text/plain": [
       "True"
      ]
     },
     "execution_count": 1,
     "metadata": {},
     "output_type": "execute_result"
    }
   ],
   "source": [
    "from langchain.text_splitter import RecursiveCharacterTextSplitter, CharacterTextSplitter\n",
    "import pandas as pd\n",
    "import re\n",
    "from langchain.schema import Document\n",
    "import numpy as np\n",
    "import ast\n",
    "\n",
    "from dotenv import load_dotenv\n",
    "load_dotenv()\n"
   ]
  },
  {
   "cell_type": "code",
   "execution_count": 49,
   "metadata": {},
   "outputs": [],
   "source": [
    "df = pd.read_csv('articles_with_text_0214.csv')\n",
    "df[\"author_list\"] = df[\"author_list\"].apply(ast.literal_eval)\n",
    "\n"
   ]
  },
  {
   "cell_type": "code",
   "execution_count": 51,
   "metadata": {},
   "outputs": [
    {
     "name": "stderr",
     "output_type": "stream",
     "text": [
      "/var/folders/xk/srqz8jbj0dsg2b_nsfgjn1lh0000gn/T/ipykernel_49177/3911293995.py:1: FutureWarning: A value is trying to be set on a copy of a DataFrame or Series through chained assignment using an inplace method.\n",
      "The behavior will change in pandas 3.0. This inplace method will never work because the intermediate object on which we are setting values always behaves as a copy.\n",
      "\n",
      "For example, when doing 'df[col].method(value, inplace=True)', try using 'df.method({col: value}, inplace=True)' or df[col] = df[col].method(value) instead, to perform the operation inplace on the original object.\n",
      "\n",
      "\n",
      "  df['month'].fillna(0, inplace=True)\n"
     ]
    }
   ],
   "source": [
    "df['month'].fillna(0, inplace=True)"
   ]
  },
  {
   "cell_type": "code",
   "execution_count": 53,
   "metadata": {},
   "outputs": [],
   "source": [
    "df['month'] = df['month'].astype(int)"
   ]
  },
  {
   "cell_type": "code",
   "execution_count": null,
   "metadata": {},
   "outputs": [],
   "source": [
    "def validate_month(value):\n",
    "    try:\n",
    "        value = int(value)  # Attempt to convert to integer\n",
    "        return value if 1 <= value <= 12 else np.nan  # Check range\n",
    "    except ValueError:\n",
    "        return np.nan  # Return NaN for non-numeric values\n",
    "\n",
    "# Apply the function to the column\n",
    "df['month'] = df['month'].apply(validate_month)\n",
    "df['month'] = df['month'].fillna(0)\n",
    "df['month'] = df['month'].astype(int)"
   ]
  },
  {
   "cell_type": "code",
   "execution_count": 55,
   "metadata": {},
   "outputs": [],
   "source": [
    "metadata_columns = ['author', 'year', 'month', 'title', 'journal', 'doi', 'id', 'url', 'abstract', 'keywords','pages', 'volume', 'chapter', 'issn']"
   ]
  },
  {
   "cell_type": "code",
   "execution_count": 56,
   "metadata": {},
   "outputs": [],
   "source": [
    "\n",
    "\n",
    "documents = []\n",
    "for _, row in df.iterrows():\n",
    "    # Extract metadata as a dictionary\n",
    "    metadata = {col: row[col] for col in metadata_columns}\n",
    "    # Create a Document object\n",
    "    doc = Document(page_content=row['text'], metadata=metadata)\n",
    "    documents.append(doc)\n",
    "    dd"
   ]
  },
  {
   "cell_type": "code",
   "execution_count": 57,
   "metadata": {},
   "outputs": [],
   "source": [
    "chunk_size = 1024\n",
    "chunk_overlap = 128"
   ]
  },
  {
   "cell_type": "code",
   "execution_count": 58,
   "metadata": {},
   "outputs": [],
   "source": [
    "\n",
    "r_splitter = RecursiveCharacterTextSplitter(\n",
    "    chunk_size=chunk_size,\n",
    "    chunk_overlap=chunk_overlap,\n",
    "    separators=[\"\\n\\n\", \"\\n\", \". \", \"? \", \"! \", \" \", \"\"]\n",
    ")"
   ]
  },
  {
   "cell_type": "code",
   "execution_count": 59,
   "metadata": {},
   "outputs": [],
   "source": [
    "\n",
    "splits = r_splitter.split_documents(documents)"
   ]
  },
  {
   "cell_type": "code",
   "execution_count": 2,
   "metadata": {},
   "outputs": [],
   "source": [
    "from langchain_google_vertexai import VertexAIEmbeddings\n",
    "embeddings = VertexAIEmbeddings(model=\"text-embedding-005\")"
   ]
  },
  {
   "cell_type": "code",
   "execution_count": 3,
   "metadata": {},
   "outputs": [],
   "source": [
    "from langchain_milvus import Milvus\n",
    "URI = \"./milvus_vector_database_0215.db\"\n",
    "embeddings = VertexAIEmbeddings(model=\"text-embedding-005\")\n",
    "\n",
    "vector_store = Milvus(embeddings, connection_args={\"uri\": URI})"
   ]
  },
  {
   "cell_type": "code",
   "execution_count": 6,
   "metadata": {},
   "outputs": [
    {
     "data": {
      "text/plain": [
       "[Document(metadata={'abstract': 'This article summarizes the insights from a systematic study of the research literature focusing on the innovation aspects of born-global firms – ventures that were launched to exploit a global niche from the earliest days of their operations. The authors provide a snapshot of opinions on the different aspects of innovation in the way they were conceptualized in the academic literature. The insights are based on a selection of 32 peer-reviewed journal articles addressing the different challenges associated with early internationalization and innovation in such ventures. The article emphasizes that the early internationalization of new ventures should be considered as an innovation process in itself and that innovation and internationalization have a positive effect on each other. In addition, it points out the role of knowledge acquisition and networking capabilities as key innovation enablers and refers to the emergence of the lean startup perspective on the innovation processes in born-global firms. The suggested insights will be relevant to researchers and practitioners interested in the relationship between early internationalization and innovation in international new ventures and lean global startups.', 'author': 'Erik Zijdemans and Stoyan Tanev', 'chapter': ' ', 'doi': 'http://doi.org/10.22215/timreview/826', 'id': 826, 'issn': '1927-0321', 'journal': 'Technology Innovation Management Review', 'keywords': 'born global, business model, early internationalization, Innovation management, lean startup approach', 'month': 9, 'pages': '5-10', 'pk': 456039236930160241, 'title': 'Conceptualizing Innovation in Born-Global Firms', 'url': 'https://timreview.ca/article/826', 'volume': '4', 'year': 2014}, page_content='Moogk, D. R. 2012. Minimum Viable Product and the Importance of Experimentation in Technology Startups.Technology Innovation Management Review, 2(3): 23-26.http://timreview.ca/article/535\\n\\nMort, G. S., & Weerawardena, J. 2006. Networking Capability and International Entrepreneurship: How Networks Function in Australian Born Global Firms.International Marketing Review,23(5): 549-572.http://dx.doi.org/10.1108/0265133061703445\\n\\nOnetti, A., Zucchella, A., Jones, M. V., & McDougall-Covin, P. P. 2012. Internationalization, Innovation and Entrepreneurship: Business Models for New Technology-Based Firms.Journal of Management & Governance,16(3): 337-368.http://dx.doi.org/10.1007/s10997-010-9154-1\\n\\nPerry, J. T., Chandler, G. N., & Markova, G. 2012. Entrepreneurial Effectuation: A Review and Suggestions for Future Research.Entrepreneurship Theory and Practice,36(4): 837-861.http://dx.doi.org/10.1111/j.1540-6520.2010.00435.x'),\n",
       " Document(metadata={'abstract': 'This article contributes to the interplay between international entrepreneurship, innovation networks, and early internationalization research by emphasizing the need to conceptualize and introduce a new type of firm: the lean global startup. It discussed two different paths in linking the lean startup and born-global internationalization strategies. The first path refers to generic lean startups that have undertaken a rapid internationalization strategy (i.e., lean-to-global startups). The second path refers to startups that have started operating on global scale since their inception and adopted the lean startup approach by seamlessly synergizing their global and lean product development activities. The article emphasizes several aspects that could be used as part of the theoretical foundation for conceptualizing lean global startups as a special new type of firm: i) the emergent nature of their business models, including the challenges of partnership development on a global scale; ii) the inherently relational nature of the global resource allocation processes; iii) the integration of the entrepreneurial, effectuation, and global marketing perspectives; iv) the need to deal with a high degree of uncertainty, including the uncertainty associated with cross-border business operations; and v) linking the ex-ante characteristics of lean startups with the ex-post characteristics of born-global firms in order to develop a technology adoption marketing perspective that considers the “crossing the chasm” process as a successful entry into a global market niche. ', 'author': 'Erik Stavnsager Rasmussen and Stoyan Tanev', 'chapter': ' ', 'doi': 'http://doi.org/10.22215/timreview/941', 'id': 941, 'issn': '1927-0321', 'journal': 'Technology Innovation Management Review', 'keywords': 'born global firm, early internationalization, effectuation theory, hypothesis-driven entrepreneurship, international entrepreneurship, lean and global start-up, lean and global startup, lean startup, technology adoption lifecycle', 'month': 11, 'pages': '12-19', 'pk': 456039237218262267, 'title': 'The Emergence of the Lean Global Startup as a New Type of Firm', 'url': 'https://timreview.ca/article/941', 'volume': '5', 'year': 2015}, page_content='In several cases, technology entrepreneurship and innovation research studies have reached out to encompass themes that are typical of research focusing on born-global firms. For example, Bailetti (2012) examines how new growth-oriented technology firms can (or must) operate in a global market right from their founding. The entrepreneurs behind these technology startups must plan the internationalization of the firm in the right way from the very beginning. Moogk (2012) discusses the lean startup concept and how entrepreneurs can apply it to the process of new technology commercialization. This is done in a context of extreme uncertainty and technology startups have to learn to design and to use minimum viable products to be able to enter a market before potential competitors. Minimum viable products offer the possibility for the technology to be tested in a way that could help the evaluation and the facilitation of a firm’s global growth opportunities.'),\n",
       " Document(metadata={'abstract': 'This article contributes to the interplay between international entrepreneurship, innovation networks, and early internationalization research by emphasizing the need to conceptualize and introduce a new type of firm: the lean global startup. It discussed two different paths in linking the lean startup and born-global internationalization strategies. The first path refers to generic lean startups that have undertaken a rapid internationalization strategy (i.e., lean-to-global startups). The second path refers to startups that have started operating on global scale since their inception and adopted the lean startup approach by seamlessly synergizing their global and lean product development activities. The article emphasizes several aspects that could be used as part of the theoretical foundation for conceptualizing lean global startups as a special new type of firm: i) the emergent nature of their business models, including the challenges of partnership development on a global scale; ii) the inherently relational nature of the global resource allocation processes; iii) the integration of the entrepreneurial, effectuation, and global marketing perspectives; iv) the need to deal with a high degree of uncertainty, including the uncertainty associated with cross-border business operations; and v) linking the ex-ante characteristics of lean startups with the ex-post characteristics of born-global firms in order to develop a technology adoption marketing perspective that considers the “crossing the chasm” process as a successful entry into a global market niche. ', 'author': 'Erik Stavnsager Rasmussen and Stoyan Tanev', 'chapter': ' ', 'doi': 'http://doi.org/10.22215/timreview/941', 'id': 941, 'issn': '1927-0321', 'journal': 'Technology Innovation Management Review', 'keywords': 'born global firm, early internationalization, effectuation theory, hypothesis-driven entrepreneurship, international entrepreneurship, lean and global start-up, lean and global startup, lean startup, technology adoption lifecycle', 'month': 11, 'pages': '12-19', 'pk': 456039237218262256, 'title': 'The Emergence of the Lean Global Startup as a New Type of Firm', 'url': 'https://timreview.ca/article/941', 'volume': '5', 'year': 2015}, page_content='. , 2014; Sarasvathy, 2001, 2008) and entrepreneurship research in general. In the next part of the article, the foundations of the two research streams will be outlined to illustrate the commonality of their theoretical backgrounds and especially of their empirical contexts.'),\n",
       " Document(metadata={'abstract': 'This article contributes to the interplay between international entrepreneurship, innovation networks, and early internationalization research by emphasizing the need to conceptualize and introduce a new type of firm: the lean global startup. It discussed two different paths in linking the lean startup and born-global internationalization strategies. The first path refers to generic lean startups that have undertaken a rapid internationalization strategy (i.e., lean-to-global startups). The second path refers to startups that have started operating on global scale since their inception and adopted the lean startup approach by seamlessly synergizing their global and lean product development activities. The article emphasizes several aspects that could be used as part of the theoretical foundation for conceptualizing lean global startups as a special new type of firm: i) the emergent nature of their business models, including the challenges of partnership development on a global scale; ii) the inherently relational nature of the global resource allocation processes; iii) the integration of the entrepreneurial, effectuation, and global marketing perspectives; iv) the need to deal with a high degree of uncertainty, including the uncertainty associated with cross-border business operations; and v) linking the ex-ante characteristics of lean startups with the ex-post characteristics of born-global firms in order to develop a technology adoption marketing perspective that considers the “crossing the chasm” process as a successful entry into a global market niche. ', 'author': 'Erik Stavnsager Rasmussen and Stoyan Tanev', 'chapter': ' ', 'doi': 'http://doi.org/10.22215/timreview/941', 'id': 941, 'issn': '1927-0321', 'journal': 'Technology Innovation Management Review', 'keywords': 'born global firm, early internationalization, effectuation theory, hypothesis-driven entrepreneurship, international entrepreneurship, lean and global start-up, lean and global startup, lean startup, technology adoption lifecycle', 'month': 11, 'pages': '12-19', 'pk': 456039237218262289, 'title': 'The Emergence of the Lean Global Startup as a New Type of Firm', 'url': 'https://timreview.ca/article/941', 'volume': '5', 'year': 2015}, page_content=\"Sarasvathy, S. D. 2008.Effectuation: Elements of Entrepreneurial Expertise. Cheltenham, UK: Edward Elgar Publishing.\\n\\nSchmidt, J., & Keil, T. 2012. What Makes a Resource Valuable? Identifying the Drivers of Firm-Idiosyncratic Resource Value.Academy of Management Review, 38(2): 206–228.http://dx.doi.org/10.5465/amr.2010.0404\\n\\nServais, P., Madsen, T. K., & Rasmussen, E. S. 2006. Small Manufacturing Firms' Involvement in International E-business Activities. InInternational Marketing Research (Advances in International Marketing, Volume 17):297–317. Bingley, UK: Emerald Group Publishing.\\n\\nTanev, S. 2012. Global from the Start: The Characteristics of Born-Global Firms in the Technology Sector.Technology Innovation Management Review, 2(3): 5–8.http://timreview.ca/article/532\\n\\nTanev, S., Rasmussen, E., Lemminger, R., Svendsen, L. L., & Zeidemans, E. 2014.Lean and Global Technology Start-ups: Linking the Two Research Streams.The ISPIM Americas Innovation Forum. Montreal, Canada.\"),\n",
       " Document(metadata={'abstract': 'This article integrates insights from the latest research on the lean startup entrepreneurial method, born-global firms, and global startups. It contributes to the clarification of terminology referring to the global aspects of startups, summarizes insights from previous literature focusing on global startups, and further substantiates the articulation of the need for considering the lean global startup as a new type of firm. The main message is that the lessons learned from the emergence of lean startup entrepreneurship offer a basis for promoting a similar lean phase in technology-based global startup research and practice. The analysis should benefit both researchers and practitioners in technology entrepreneurship, international entrepreneurship, and global innovation management. ', 'author': 'Stoyan Tanev', 'chapter': ' ', 'doi': 'http://doi.org/10.22215/timreview/1072', 'id': 1072, 'issn': '1927-0321', 'journal': 'Technology Innovation Management Review', 'keywords': 'born global, global startup, international entrepreneurship, international new venture, lean global startup, lean startup, technology startup', 'month': 5, 'pages': '6-15', 'pk': 456039237510821242, 'title': 'Is There a Lean Future for Global Startups?', 'url': 'https://timreview.ca/article/1072', 'volume': '7', 'year': 2017}, page_content='The reason for summarizing the three trends above was to emphasize that global entrepreneurs take advantage of these opportunities and design their business models by combining and exploiting talent and resources from all around the world. The vastly reduced set-up costs of communication technology systems enables new startups to make efficient interpersonal exchanges across large distances. The access to talent and resources worldwide allows startups to become global from the start by integrating complementary technological products developed by partners from multiple global locations, coordinating resources, working with distributors, and seeking additional support from investors. Most of the entrepreneurs who have succeeded in making a global move are mature individuals who have achieved professional success before either in business or in academia')]"
      ]
     },
     "execution_count": 4,
     "metadata": {},
     "output_type": "execute_result"
    }
   ],
   "source": [
    "\n",
    "results = vector_store.similarity_search(\n",
    "    \"contributions to technology entrepreneurship\",\n",
    "    k=5,\n",
    "    expr=\"((( year >= 2013 ) and ( year <= 2017 )) and ( author LIKE '%Stoyan%' ))\"\n",
    ")\n",
    "results"
   ]
  },
  {
   "cell_type": "code",
   "execution_count": 7,
   "metadata": {},
   "outputs": [
    {
     "name": "stdout",
     "output_type": "stream",
     "text": [
      "title: Conceptualizing Innovation in Born-Global Firms\n",
      "author: Erik Zijdemans and Stoyan Tanev\n",
      "year: 2014\n",
      "title: The Emergence of the Lean Global Startup as a New Type of Firm\n",
      "author: Erik Stavnsager Rasmussen and Stoyan Tanev\n",
      "year: 2015\n",
      "title: The Emergence of the Lean Global Startup as a New Type of Firm\n",
      "author: Erik Stavnsager Rasmussen and Stoyan Tanev\n",
      "year: 2015\n",
      "title: The Emergence of the Lean Global Startup as a New Type of Firm\n",
      "author: Erik Stavnsager Rasmussen and Stoyan Tanev\n",
      "year: 2015\n",
      "title: Is There a Lean Future for Global Startups?\n",
      "author: Stoyan Tanev\n",
      "year: 2017\n"
     ]
    }
   ],
   "source": [
    "for result in results:\n",
    "    print(f\"title: {result.metadata['title']}\")\n",
    "    print(f\"author: {result.metadata['author']}\")\n",
    "    print(f\"year: {result.metadata['year']}\")"
   ]
  },
  {
   "cell_type": "code",
   "execution_count": 135,
   "metadata": {},
   "outputs": [
    {
     "name": "stdout",
     "output_type": "stream",
     "text": [
      "((( year >= 2013 ) and ( year <= 2017 )) and ( author like \"%Mika Westerlund%%\" ))\n"
     ]
    }
   ],
   "source": [
    "from langchain.chains.query_constructor.ir import (\n",
    "    Comparator,\n",
    "    Comparison,\n",
    "    Operation,\n",
    "    Operator,\n",
    ")\n",
    "from langchain.retrievers.self_query.milvus import MilvusTranslator\n",
    "\n",
    "# Step 1: Define the Comparisons\n",
    "year_comparison_gte = Comparison(\n",
    "    comparator=Comparator.GTE,\n",
    "    attribute=\"year\",\n",
    "    value=2013\n",
    ")\n",
    "\n",
    "year_comparison_lte = Comparison(\n",
    "    comparator=Comparator.LTE,\n",
    "    attribute=\"year\",\n",
    "    value=2017\n",
    ")\n",
    "\n",
    "author_comparison = Comparison(\n",
    "    comparator=Comparator.LIKE,\n",
    "    attribute=\"author\",\n",
    "    value=\"%Mika Westerlund%\"\n",
    ")\n",
    "\n",
    "year_comparison_qe = Comparison(\n",
    "    comparator=Comparator.EQ,\n",
    "    attribute=\"year\",\n",
    "    value=2019\n",
    ")\n",
    "\n",
    "abstract_comparison = Comparison(\n",
    "    comparator=Comparator.IN,\n",
    "    attribute=\"abstract\",\n",
    "    value=\"this\"\n",
    ")\n",
    "\n",
    "# Step 2: Combine Comparisons with Logical Operators\n",
    "year_range_operation = Operation(\n",
    "    operator=Operator.AND,\n",
    "    arguments=[year_comparison_gte, year_comparison_lte]\n",
    ")\n",
    "\n",
    "combined_operation = Operation(\n",
    "    operator=Operator.AND,\n",
    "    arguments=[year_range_operation, author_comparison]\n",
    ")\n",
    "\n",
    "# Step 3: Translate to Chroma Filter Format\n",
    "translator_milvus = MilvusTranslator()\n",
    "filter = translator_milvus.visit_operation(combined_operation)\n",
    "#filter = translator_milvus.visit_comparison(author_comparison_like)\n",
    "\n",
    "print(filter)  "
   ]
  },
  {
   "cell_type": "code",
   "execution_count": 136,
   "metadata": {},
   "outputs": [
    {
     "data": {
      "text/plain": [
       "[Document(metadata={'abstract': 'This article investigates how entrepreneurial marketing can encourage resellers to adopt smart micro-grid technology. An online survey based on the literature on user adoption and entrepreneurial marketing was used to gather data from 99 power systems resellers. The data were analyzed using the partial least squares method to validate a model of the relationships between reseller\\\\textquoterights antecedents and intention to adopt smart micro-grid technology, and the role of vendor\\\\textquoterights entrepreneurial marketing in the adoption. The results suggest that user adoption models can only partially be applied to the reseller context, and future research should develop models that can further explain reseller\\\\textquoterights decision making with regards to becoming involved in an emerging technology. As to the implications for practice, vendors need to demonstrate proactive entrepreneurial marketing, particularly entrepreneurial orientation, to increase the performance expectancy perceived by their resellers by increasing awareness and understanding of smart micro-grid technology to cultivate its diffusion.', 'author': 'Hamidreza Kavandi and Mika Westerlund', 'chapter': ' ', 'doi': 'http://doi.org/10.22215/timreview/925', 'id': 925, 'issn': '1927-0321', 'journal': 'Technology Innovation Management Review', 'keywords': 'entrepreneurial marketing, power systems, resellers, smart micro-grid, technology adoption', 'month': 9, 'pages': '5-16', 'pk': 456039237218261915, 'title': 'Using Entrepreneurial Marketing to Foster Reseller Adoption of Smart Micro-Grid Technology', 'url': 'https://timreview.ca/article/925', 'volume': '5', 'year': 2015}, page_content='Innovation orientation is associated with creativity in identifying new opportunities and using innovative techniques to solve customer problems (Jones & Rowley, 2011). Innovation is a marketing-oriented construct that creates an outward-looking focus for all that the company does, and it is central to entrepreneurship as the means by which entrepreneurs can exploit change and provide an opportunity to create businesses (Miles et al., 2015). Innovation orientation also refers to being driven by ideas and intuition as opposed to customer orientation, which is associated with being driven by an assessment of market needs (Morrish, 2011). Innovation orientation has two dimensions: i) knowledge infrastructure and ii) propensity to innovate (Jones et al., 2013). The former means making an infrastructure’s knowledge meet formal and informal procedures, practices must be intensive, and data must be gathered and information must be disseminated from inside and using external resources (Jones & Rowley, 2011)'),\n",
       " Document(metadata={'abstract': 'This article investigates how entrepreneurial marketing can encourage resellers to adopt smart micro-grid technology. An online survey based on the literature on user adoption and entrepreneurial marketing was used to gather data from 99 power systems resellers. The data were analyzed using the partial least squares method to validate a model of the relationships between reseller\\\\textquoterights antecedents and intention to adopt smart micro-grid technology, and the role of vendor\\\\textquoterights entrepreneurial marketing in the adoption. The results suggest that user adoption models can only partially be applied to the reseller context, and future research should develop models that can further explain reseller\\\\textquoterights decision making with regards to becoming involved in an emerging technology. As to the implications for practice, vendors need to demonstrate proactive entrepreneurial marketing, particularly entrepreneurial orientation, to increase the performance expectancy perceived by their resellers by increasing awareness and understanding of smart micro-grid technology to cultivate its diffusion.', 'author': 'Hamidreza Kavandi and Mika Westerlund', 'chapter': ' ', 'doi': 'http://doi.org/10.22215/timreview/925', 'id': 925, 'issn': '1927-0321', 'journal': 'Technology Innovation Management Review', 'keywords': 'entrepreneurial marketing, power systems, resellers, smart micro-grid, technology adoption', 'month': 9, 'pages': '5-16', 'pk': 456039237218261913, 'title': 'Using Entrepreneurial Marketing to Foster Reseller Adoption of Smart Micro-Grid Technology', 'url': 'https://timreview.ca/article/925', 'volume': '5', 'year': 2015}, page_content='Entrepreneurial orientation refers to a firm’s innovation culture and risk taking attitude. Entrepreneurial orientation has three dimensions: i) propensity for risk taking, ii) pro-activeness toward opportunities, and ii) innovativeness (Jones & Rowley, 2011). Risk taking explains the acceptance of risks to make new opportunities and revolutionary activity (Jones et al., 2013). It shows whether a firm has a tendency for high-risk products and whether risk taking is considered a positive attitude (Ahmadi & O’Cass, 2015). Subsequently, pro-activeness means the commitment to find new opportunities and cheaper, simpler, or more effective ways of completing tasks (Jones et al., 2013). Whereas innovativeness refers to receptiveness to innovation (Jones & Rowley, 2011), some definitions emphasize the dualistic nature of innovation in terms of invention and commercialization of that invention (cf. Ahmadi & O’Cass, 2015)'),\n",
       " Document(metadata={'abstract': 'This article investigates how entrepreneurial marketing can encourage resellers to adopt smart micro-grid technology. An online survey based on the literature on user adoption and entrepreneurial marketing was used to gather data from 99 power systems resellers. The data were analyzed using the partial least squares method to validate a model of the relationships between reseller\\\\textquoterights antecedents and intention to adopt smart micro-grid technology, and the role of vendor\\\\textquoterights entrepreneurial marketing in the adoption. The results suggest that user adoption models can only partially be applied to the reseller context, and future research should develop models that can further explain reseller\\\\textquoterights decision making with regards to becoming involved in an emerging technology. As to the implications for practice, vendors need to demonstrate proactive entrepreneurial marketing, particularly entrepreneurial orientation, to increase the performance expectancy perceived by their resellers by increasing awareness and understanding of smart micro-grid technology to cultivate its diffusion.', 'author': 'Hamidreza Kavandi and Mika Westerlund', 'chapter': ' ', 'doi': 'http://doi.org/10.22215/timreview/925', 'id': 925, 'issn': '1927-0321', 'journal': 'Technology Innovation Management Review', 'keywords': 'entrepreneurial marketing, power systems, resellers, smart micro-grid, technology adoption', 'month': 9, 'pages': '5-16', 'pk': 456039237218261909, 'title': 'Using Entrepreneurial Marketing to Foster Reseller Adoption of Smart Micro-Grid Technology', 'url': 'https://timreview.ca/article/925', 'volume': '5', 'year': 2015}, page_content='Both marketing and entrepreneurship are change focused, opportunistic in nature, and innovative in their approach (Collinson & Shaw, 2001). They both acknowledge the importance of opportunity recognition (Miles et al., 2015). However, entrepreneurial marketing is distinct from conventional marketing: rather than relying on the traditional 4Ps of marketing (product, price, place, and promotion), entrepreneurial marketing emphasizes the entrepreneurial 4Ps (purpose, practice, process, and people) (Martin, 2009). Entrepreneurial marketing outcomes comprise innovation and customer value (Jones et al., 2013) through firms’ proactive, innovative, risky, and opportunity- and growth oriented actions (Hills & Hultman, 2011). For example, fast growth technology companies use new approaches, interactive processes and networks to promoting and selling innovations (Jones et al., 2013), and tend to have long-term orientation to opportunity creation and exploitation (Hills et al., 2008)'),\n",
       " Document(metadata={'abstract': 'This article investigates how entrepreneurial marketing can encourage resellers to adopt smart micro-grid technology. An online survey based on the literature on user adoption and entrepreneurial marketing was used to gather data from 99 power systems resellers. The data were analyzed using the partial least squares method to validate a model of the relationships between reseller\\\\textquoterights antecedents and intention to adopt smart micro-grid technology, and the role of vendor\\\\textquoterights entrepreneurial marketing in the adoption. The results suggest that user adoption models can only partially be applied to the reseller context, and future research should develop models that can further explain reseller\\\\textquoterights decision making with regards to becoming involved in an emerging technology. As to the implications for practice, vendors need to demonstrate proactive entrepreneurial marketing, particularly entrepreneurial orientation, to increase the performance expectancy perceived by their resellers by increasing awareness and understanding of smart micro-grid technology to cultivate its diffusion.', 'author': 'Hamidreza Kavandi and Mika Westerlund', 'chapter': ' ', 'doi': 'http://doi.org/10.22215/timreview/925', 'id': 925, 'issn': '1927-0321', 'journal': 'Technology Innovation Management Review', 'keywords': 'entrepreneurial marketing, power systems, resellers, smart micro-grid, technology adoption', 'month': 9, 'pages': '5-16', 'pk': 456039237218261907, 'title': 'Using Entrepreneurial Marketing to Foster Reseller Adoption of Smart Micro-Grid Technology', 'url': 'https://timreview.ca/article/925', 'volume': '5', 'year': 2015}, page_content='Marketing is a critical activity that plays an important role in a company’s success (Franco et al., 2014). Entrepreneurial marketing is a field of marketing associated with entrepreneurial behaviour and small firm resources and practices that are based on effectuation rather than causation (Mort et al., 2012). The entrepreneurial marketing construct has evolved as a response to contemporary market conditions where creative, non-standard solutions are required to address the complex, chaotic, and fragmented nature of the business environment (Fillis, 2010). Entrepreneurial marketing describes the marketing processes of firms pursuing opportunities in uncertain market circumstances (Becherer et al., 2008), and it is used as the proactive exploitation of opportunities for acquiring and retaining profitable customers through innovative approaches to risk management, resource leveraging, and value creation (Morris et al., 2002)'),\n",
       " Document(metadata={'abstract': 'This article investigates how entrepreneurial marketing can encourage resellers to adopt smart micro-grid technology. An online survey based on the literature on user adoption and entrepreneurial marketing was used to gather data from 99 power systems resellers. The data were analyzed using the partial least squares method to validate a model of the relationships between reseller\\\\textquoterights antecedents and intention to adopt smart micro-grid technology, and the role of vendor\\\\textquoterights entrepreneurial marketing in the adoption. The results suggest that user adoption models can only partially be applied to the reseller context, and future research should develop models that can further explain reseller\\\\textquoterights decision making with regards to becoming involved in an emerging technology. As to the implications for practice, vendors need to demonstrate proactive entrepreneurial marketing, particularly entrepreneurial orientation, to increase the performance expectancy perceived by their resellers by increasing awareness and understanding of smart micro-grid technology to cultivate its diffusion.', 'author': 'Hamidreza Kavandi and Mika Westerlund', 'chapter': ' ', 'doi': 'http://doi.org/10.22215/timreview/925', 'id': 925, 'issn': '1927-0321', 'journal': 'Technology Innovation Management Review', 'keywords': 'entrepreneurial marketing, power systems, resellers, smart micro-grid, technology adoption', 'month': 9, 'pages': '5-16', 'pk': 456039237218261912, 'title': 'Using Entrepreneurial Marketing to Foster Reseller Adoption of Smart Micro-Grid Technology', 'url': 'https://timreview.ca/article/925', 'volume': '5', 'year': 2015}, page_content='. The third dimension, understanding and delivering customer value, draws on the fact that, without entrepreneurial expertise, managers and entrepreneurs are inclined to rely on generic information, which limits their ability to be innovative and create superior customer value in uncertain environments (Miles et al., 2015).')]"
      ]
     },
     "execution_count": 7,
     "metadata": {},
     "output_type": "execute_result"
    }
   ],
   "source": [
    "results = vector_store.similarity_search(\n",
    "    \"What is innovative entrepreneurship?\",\n",
    "    k=5,\n",
    "    expr=filter\n",
    ")\n",
    "results"
   ]
  },
  {
   "cell_type": "code",
   "execution_count": 137,
   "metadata": {},
   "outputs": [
    {
     "name": "stdout",
     "output_type": "stream",
     "text": [
      "year: 2015\n",
      "author: Hamidreza Kavandi and Mika Westerlund\n",
      "=====================\n",
      "year: 2015\n",
      "author: Hamidreza Kavandi and Mika Westerlund\n",
      "=====================\n",
      "year: 2015\n",
      "author: Hamidreza Kavandi and Mika Westerlund\n",
      "=====================\n",
      "year: 2015\n",
      "author: Hamidreza Kavandi and Mika Westerlund\n",
      "=====================\n",
      "year: 2015\n",
      "author: Hamidreza Kavandi and Mika Westerlund\n",
      "=====================\n"
     ]
    }
   ],
   "source": [
    "for result in results:\n",
    "    print(f\"year: {result.metadata['year']}\")\n",
    "    print(f\"author: {result.metadata['author']}\")\n",
    "    print('=====================')"
   ]
  },
  {
   "cell_type": "code",
   "execution_count": null,
   "metadata": {},
   "outputs": [],
   "source": []
  },
  {
   "cell_type": "code",
   "execution_count": null,
   "metadata": {},
   "outputs": [],
   "source": []
  }
 ],
 "metadata": {
  "kernelspec": {
   "display_name": "tim-review",
   "language": "python",
   "name": "python3"
  },
  "language_info": {
   "codemirror_mode": {
    "name": "ipython",
    "version": 3
   },
   "file_extension": ".py",
   "mimetype": "text/x-python",
   "name": "python",
   "nbconvert_exporter": "python",
   "pygments_lexer": "ipython3",
   "version": "3.11.11"
  }
 },
 "nbformat": 4,
 "nbformat_minor": 2
}
