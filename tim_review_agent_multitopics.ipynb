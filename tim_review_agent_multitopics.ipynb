{
 "cells": [
  {
   "cell_type": "code",
   "execution_count": 1,
   "metadata": {},
   "outputs": [
    {
     "data": {
      "text/plain": [
       "True"
      ]
     },
     "execution_count": 1,
     "metadata": {},
     "output_type": "execute_result"
    }
   ],
   "source": [
    "from langgraph.graph import MessagesState, StateGraph, START, END\n",
    "from langchain_core.tools import tool\n",
    "from langchain_core.messages import SystemMessage, HumanMessage, AIMessage, ToolMessage\n",
    "from langgraph.prebuilt import ToolNode, tools_condition\n",
    "from langchain_google_vertexai import ChatVertexAI\n",
    "from langchain_openai import ChatOpenAI\n",
    "from langsmith import traceable\n",
    "from langchain.schema import Document\n",
    "from pydantic import BaseModel, Field\n",
    "from typing import Optional, Dict, Literal, List, NotRequired, Annotated, TypedDict\n",
    "from operator import add\n",
    "\n",
    "import json\n",
    "\n",
    "from langgraph.constants import Send\n",
    "\n",
    "from IPython.display import Image, display, Markdown\n",
    "\n",
    "from dotenv import load_dotenv\n",
    "load_dotenv()"
   ]
  },
  {
   "cell_type": "code",
   "execution_count": 2,
   "metadata": {},
   "outputs": [],
   "source": [
    "from langchain_google_vertexai import VertexAIEmbeddings\n",
    "embeddings = VertexAIEmbeddings(model=\"text-embedding-005\")"
   ]
  },
  {
   "cell_type": "code",
   "execution_count": 3,
   "metadata": {},
   "outputs": [],
   "source": [
    "from langchain_chroma import Chroma\n",
    "persist_directory = 'docs/chroma_from_web/'\n",
    "vector_store = Chroma(persist_directory = persist_directory,embedding_function = embeddings)"
   ]
  },
  {
   "cell_type": "code",
   "execution_count": null,
   "metadata": {},
   "outputs": [],
   "source": [
    "vector_store.similarity_search_with_relevance_scores(\"What's innovative entrepreneurship?\", k=5)"
   ]
  },
  {
   "cell_type": "code",
   "execution_count": 5,
   "metadata": {},
   "outputs": [],
   "source": [
    "\n",
    "llm = ChatVertexAI(model=\"gemini-2.0-flash-exp\", temperature=0)\n",
    "#llm = ChatOpenAI(temperature=0, model_name=\"gpt-4o\")"
   ]
  },
  {
   "cell_type": "code",
   "execution_count": 6,
   "metadata": {},
   "outputs": [],
   "source": [
    "\n",
    "query_or_respond_system_message = \"\"\"\n",
    "Your are an expert on technology innovation management.\n",
    "You are given a query by the user specified in the user message.\n",
    "You are to retrieve information related to the query from around 700 articles from the Tim Review Journal.\n",
    "The retrieval is done using a vector similarity search.\n",
    "You should decide whether a research is required.\n",
    "If research is required, handle the query properly.\n",
    "If more than one topics are involved in the query, no matter how the question is asked, you must divide the query into subtopics. This division rule is very important, take special care of it. \n",
    "If there is authors, time, etc. involved, your should specify them in every subquery separately.\n",
    "If the user does not provide a query related to technology innovation management, you should response with an empty list.\n",
    "\"\"\"\n",
    "\n",
    "generate_tool_call_system_message = \"\"\" \n",
    "Generate a tool call based on the query.\n",
    "Carefully choose the filters agrument to retrieve the information that is most relevant to the query.\n",
    "The content under the key \"author\" in metadata contains all the authors of the documents. \n",
    "\"\"\"\n",
    "\n",
    "generate_system_message = \"\"\" \n",
    "Your are an expert on technology innovation management.\n",
    "You are given a query by the user specified in the user message and some documents retrieved from the Tim Review Journal.\n",
    "Examine every document carefully and choose choose those you think are relevant to the query. Answer the query based on the chosen documents. \n",
    "Generally you should confine your answer to the documents that you have chosen, but you can add information from outside of the documents if the information is considered common sense. \n",
    "If the documents do not provide enough information to answer the query, you should clearly state it.\n",
    "You should use APA 7th edition format in-line citation and generate a reference list at the end of the answer unless the user specifys otherwise.\n",
    "Generate Markdown formatted answer. \n",
    "Use Markdown format for the answer. Use single * for bold and single _ for italics.\n",
    "When a reference list is generated, make the heading Reference bold.\n",
    "\n",
    "<query>\n",
    "{query}\n",
    "</query>\n",
    "\n",
    "<documents>\n",
    "{documents}\n",
    "</documents>\n",
    "\"\"\"\n",
    "\n",
    "steer_back_system_prompt = \"\"\"\n",
    "Now the user has asked a question that's not related to technology innovation management. Say something to steer the user back on track.\n",
    "\"\"\"\n"
   ]
  },
  {
   "cell_type": "code",
   "execution_count": 7,
   "metadata": {},
   "outputs": [],
   "source": [
    "\n",
    "    \n",
    "class DividedQuery(BaseModel):\n",
    "    query: str = Field(description=\"Query for the subtopic.\")\n",
    "    \n",
    "class DividedQueryList(BaseModel):\n",
    "    divided_queries: List[DividedQuery] = Field(description=\"A list of queries for the subtopics.\") \n",
    "    \n",
    "class RetrieveState(TypedDict):\n",
    "    subquery: str\n",
    "    \n",
    "class RetrieveInput(BaseModel):\n",
    "    query: str = Field(description=\"The query to retrieve the answer for in cosine similarity.\")\n",
    "    #filter: Dict[Literal[\"author\", \"title\", \"year\", \"month\"], str | int] = {}\n",
    "    filter_author: Optional[str] = Field(default=None, description=\"Filter property, the authors of the document\")\n",
    "    filter_title: Optional[str] = Field(default=None, description=\"Filter property, the title of the document\")\n",
    "    filter_year: Optional[int] = Field(default=None, description=\"Filter property, the year of the document. Should be an integer\")\n",
    "    filter_month: Optional[int] = Field(default=None, description=\"Filter property, the month of the document. Should be an integer\")\n",
    "\n",
    "class ChosenDocument(BaseModel):\n",
    "    indeces: List[int] = Field(description=\"A list of the indeces of the documents that are chosen to be used for the answer. The index start from 0.\")\n",
    "    documents: List[str] = Field(description=\"A list of the strings of the oringinal text of the documents that are chosen to be used for the answer. The index start from 0.\")\n",
    "    \n",
    "class TimReviewState(MessagesState):\n",
    "    query: str\n",
    "    subqueries: Annotated[list, add]"
   ]
  },
  {
   "cell_type": "code",
   "execution_count": 27,
   "metadata": {},
   "outputs": [],
   "source": [
    "@traceable\n",
    "def query_or_respond(state: TimReviewState):\n",
    "    \"\"\"Decide whether research is required and rewrite the query if necessary.\"\"\"\n",
    "    system_prompt = SystemMessage(content=query_or_respond_system_message)\n",
    "    human_prompt = HumanMessage(content=state['query'])\n",
    "    query_llm = llm.with_structured_output(DividedQueryList)\n",
    "    response = query_llm.invoke([system_prompt, human_prompt])\n",
    "    return {\"subqueries\": response.divided_queries}\n",
    "\n",
    "@traceable\n",
    "def generate_retrieval_tool_call(state: RetrieveState):\n",
    "    system_prompt = SystemMessage(content=generate_tool_call_system_message)\n",
    "    tools = [retrieve]\n",
    "    retrieve_llm = llm.bind_tools(tools)\n",
    "    query = state[\"query\"].query\n",
    "    response = retrieve_llm.invoke([system_prompt] + [HumanMessage(content=query)])\n",
    "\n",
    "    return {\"messages\": [response]}\n",
    "\n",
    "@traceable\n",
    "def should_research(state: TimReviewState):\n",
    "\n",
    "    if len(state[\"subqueries\"]):\n",
    "        return [Send(\"generate_retrieval_tool_call\", {\"query\": q}) for q in state[\"subqueries\"]]\n",
    "    else: \n",
    "        return \"steer_back\"\n",
    "\n",
    "\n",
    "@traceable\n",
    "def multiple_retrieve(state: TimReviewState):\n",
    "    tool_calls_messages = []\n",
    "    for message in reversed(state[\"messages\"]):\n",
    "        if message.tool_calls:\n",
    "            tool_calls_messages.append(message)\n",
    "        else:\n",
    "            break\n",
    "    tool_calls_messages = tool_calls_messages[::-1]\n",
    "    tool_messages = []\n",
    "    for tool_call in tool_calls_messages:\n",
    "        tool_result = retrieve.invoke(tool_call.tool_calls[0][\"args\"])\n",
    "        tool_message = ToolMessage(\n",
    "            content=str(tool_result), \n",
    "            name=\"retrieve\", \n",
    "            tool_call_id=tool_call.tool_calls[0][\"id\"]\n",
    "            )\n",
    "        tool_messages.append(tool_message)\n",
    "    \n",
    "    return {\"messages\": tool_messages}\n",
    "\n",
    "def steer_back(state: TimReviewState):\n",
    "    response = llm.invoke([SystemMessage(content=steer_back_system_prompt), HumanMessage(content=\" \")])\n",
    "    return {\"messages\": [response]}\n",
    "    \n",
    "@tool(\"retrieve\", args_schema=RetrieveInput)\n",
    "def retrieve(query: str, filter_author: str = None, filter_title: str = None, filter_year: int = None, filter_month: int = None):\n",
    "    \"\"\"\n",
    "    Retrieve information from the literatures related to a query.\n",
    "    \n",
    "    param query: The query to search for in cosine similarity.\n",
    "    param filter: The filter to apply to the search. The filter is a dictionary with the following keys:\n",
    "        - author: The authors of the document\n",
    "        - title: The title of the document\n",
    "        - year: The year of the document\n",
    "        - month: The month of the document. Format: mm/yyyy\n",
    "        \n",
    "    return: A list of the retrieved documents    \n",
    "    \n",
    "    \"\"\"\n",
    "\n",
    "    filter = {}\n",
    "    if filter_author: filter[\"author\"] = filter_author\n",
    "    if filter_title: filter[\"title\"] = filter_title\n",
    "    if filter_year: filter[\"year\"] = filter_year\n",
    "    if filter_month: filter[\"month\"] = filter_month\n",
    "    if len(filter.keys()):\n",
    "        retrieved_docs = vector_store.similarity_search(query, k=5, filter=filter)\n",
    "    else: retrieved_docs = vector_store.similarity_search(query, k=5)\n",
    "    print('*************** Retrieval ***************')\n",
    "    print(f'Query: {query}')\n",
    "    print(f'Number of documents retrieved: {len(retrieved_docs)}')\n",
    "    print('Documents:')\n",
    "    for document in retrieved_docs:\n",
    "        print(document)\n",
    "    return retrieved_docs\n",
    "\n",
    "\n",
    "def generate(state: TimReviewState):\n",
    "    \"\"\"Generate answer.\"\"\"\n",
    "    # Get generated ToolMessages\n",
    "    tool_messages = []\n",
    "    for message in reversed(state[\"messages\"]):\n",
    "        if message.type == \"tool\":\n",
    "            tool_messages.append(message)\n",
    "        else:\n",
    "            break\n",
    "    tool_messages = tool_messages[::-1]\n",
    "    \n",
    "    docs = []\n",
    "    for tool_message in tool_messages:\n",
    "        if type(tool_message.content) == str:\n",
    "            docs.extend(eval(tool_messages[-1].content))\n",
    "    for doc in docs:\n",
    "        doc.metadata.pop(\"abstract\")\n",
    "    \n",
    "    system_prompt = generate_system_message.format(query=state[\"query\"], documents=docs)\n",
    "\n",
    "    response = llm.invoke([SystemMessage(content=system_prompt), HumanMessage(content=\" \")])\n",
    "\n",
    "    return {\"messages\": [response]}"
   ]
  },
  {
   "cell_type": "code",
   "execution_count": 668,
   "metadata": {},
   "outputs": [],
   "source": [
    "\n"
   ]
  },
  {
   "cell_type": "code",
   "execution_count": 28,
   "metadata": {},
   "outputs": [],
   "source": [
    "def get_graph():\n",
    "    graph_builder = StateGraph(TimReviewState)\n",
    "\n",
    "    graph_builder.add_node(\"query_or_respond\", query_or_respond)\n",
    "    graph_builder.add_node(\"generate_retrieval_tool_call\", generate_retrieval_tool_call)\n",
    "    graph_builder.add_node(\"steer_back\", steer_back)\n",
    "    graph_builder.add_node(\"multiple_retrieve\", multiple_retrieve)\n",
    "    graph_builder.add_node(\"generate\", generate)\n",
    "\n",
    "    graph_builder.add_edge(START, \"query_or_respond\")\n",
    "    graph_builder.add_conditional_edges(\"query_or_respond\", should_research, [\"generate_retrieval_tool_call\", \"steer_back\"])\n",
    "    graph_builder.add_edge(\"generate_retrieval_tool_call\", \"multiple_retrieve\")\n",
    "    graph_builder.add_edge(\"multiple_retrieve\", \"generate\")\n",
    "    graph_builder.add_edge(\"steer_back\", END)\n",
    "    graph_builder.add_edge(\"generate\", END)\n",
    "\n",
    "    return graph_builder.compile()   "
   ]
  },
  {
   "cell_type": "code",
   "execution_count": 29,
   "metadata": {},
   "outputs": [
    {
     "data": {
      "image/png": "[encoded data removed]",
      "text/plain": [
       "<IPython.core.display.Image object>"
      ]
     },
     "metadata": {},
     "output_type": "display_data"
    }
   ],
   "source": [
    "if __name__ == \"__main__\": \n",
    "    graph = get_graph()\n",
    "    display(Image(graph.get_graph().draw_mermaid_png()))"
   ]
  },
  {
   "cell_type": "code",
   "execution_count": 30,
   "metadata": {},
   "outputs": [
    {
     "name": "stderr",
     "output_type": "stream",
     "text": [
      "Failed to get inputs for (state: __main__.TimReviewState): got an unexpected keyword argument 'config'\n",
      "Key '$defs' is not supported in schema, ignoring\n"
     ]
    },
    {
     "name": "stdout",
     "output_type": "stream",
     "text": [
      "_format_to_gapic_function_declaration\n",
      "<class '__main__.DividedQueryList'>\n",
      "_format_to_gapic_function_declaration\n",
      "{'type': 'function', 'function': {'name': 'DividedQueryList', 'description': '', 'parameters': {'properties': {'divided_queries': {'description': 'A list of queries for the subtopics.', 'items': {'properties': {'query': {'description': 'Query for the subtopic.', 'type': 'string'}}, 'required': ['query'], 'type': 'object'}, 'type': 'array'}}, 'required': ['divided_queries'], 'type': 'object'}}}\n"
     ]
    },
    {
     "name": "stderr",
     "output_type": "stream",
     "text": [
      "Failed to get inputs for (state: __main__.TimReviewState): got an unexpected keyword argument 'config'\n",
      "Failed to get inputs for (state: __main__.RetrieveState): got an unexpected keyword argument 'config'\n",
      "Failed to get inputs for (state: __main__.RetrieveState): got an unexpected keyword argument 'config'\n"
     ]
    },
    {
     "name": "stdout",
     "output_type": "stream",
     "text": [
      "_format_to_gapic_function_declaration\n",
      "{'type': 'function', 'function': {'name': 'retrieve', 'description': 'Retrieve information from the literatures related to a query.\\n\\nparam query: The query to search for in cosine similarity.\\nparam filter: The filter to apply to the search. The filter is a dictionary with the following keys:\\n    - author: The authors of the document\\n    - title: The title of the document\\n    - year: The year of the document\\n    - month: The month of the document. Format: mm/yyyy\\n\\nreturn: A list of the retrieved documents', 'parameters': {'properties': {'query': {'description': 'The query to retrieve the answer for in cosine similarity.', 'type': 'string'}, 'filter_author': {'anyOf': [{'type': 'string'}, {'type': 'null'}], 'default': None, 'description': 'Filter property, the authors of the document'}, 'filter_title': {'anyOf': [{'type': 'string'}, {'type': 'null'}], 'default': None, 'description': 'Filter property, the title of the document'}, 'filter_year': {'anyOf': [{'type': 'integer'}, {'type': 'null'}], 'default': None, 'description': 'Filter property, the year of the document. Should be an integer'}, 'filter_month': {'anyOf': [{'type': 'integer'}, {'type': 'null'}], 'default': None, 'description': 'Filter property, the month of the document. Should be an integer'}}, 'required': ['query'], 'type': 'object'}}}\n",
      "_format_to_gapic_function_declaration\n",
      "{'type': 'function', 'function': {'name': 'retrieve', 'description': 'Retrieve information from the literatures related to a query.\\n\\nparam query: The query to search for in cosine similarity.\\nparam filter: The filter to apply to the search. The filter is a dictionary with the following keys:\\n    - author: The authors of the document\\n    - title: The title of the document\\n    - year: The year of the document\\n    - month: The month of the document. Format: mm/yyyy\\n\\nreturn: A list of the retrieved documents', 'parameters': {'properties': {'query': {'description': 'The query to retrieve the answer for in cosine similarity.', 'type': 'string'}, 'filter_author': {'anyOf': [{'type': 'string'}, {'type': 'null'}], 'default': None, 'description': 'Filter property, the authors of the document'}, 'filter_title': {'anyOf': [{'type': 'string'}, {'type': 'null'}], 'default': None, 'description': 'Filter property, the title of the document'}, 'filter_year': {'anyOf': [{'type': 'integer'}, {'type': 'null'}], 'default': None, 'description': 'Filter property, the year of the document. Should be an integer'}, 'filter_month': {'anyOf': [{'type': 'integer'}, {'type': 'null'}], 'default': None, 'description': 'Filter property, the month of the document. Should be an integer'}}, 'required': ['query'], 'type': 'object'}}}\n"
     ]
    },
    {
     "name": "stderr",
     "output_type": "stream",
     "text": [
      "Failed to get inputs for (state: __main__.TimReviewState): got an unexpected keyword argument 'config'\n"
     ]
    },
    {
     "name": "stdout",
     "output_type": "stream",
     "text": [
      "*************** Retrieval ***************\n",
      "Query: technology entrepreneurship\n",
      "Number of documents retrieved: 5\n",
      "Documents:\n",
      "page_content='As a specific type of entrepreneurship, technology entrepreneurship is defined as “an investment in a project that assembles and deploys specialized individuals and heterogeneous assets that are intricately related to advances in scientific and technological knowledge for the purpose of creating and capturing value for a firm” (Bailetti, 2012), and at its heart is the establishment of new technology ventures. Individual technology entrepreneurs have been categorized as researchers, producers, users and opportunists as per their technical orientation and background. However, technology entrepreneurs are often a mix of these attributes. Also, entrepreneurial teams have a combination of these attributes (Jones-Evans, 1995).  Technology entrepreneurs differ in the ways in which they draw on resources and structures to exploit technology opportunities. They may focus on self-dependency or on the right network and alliances (Tzu-Hsin et al., 2005).' metadata={'abstract': 'Are the features and processes of entrepreneurship – such as wealth creation, risk taking, vision, identification of a niche market, launching new products, and so on – common across the world? Many would assume they would be. However, firms that are entrepreneurial in nature and belong to emerging markets may or may not follow the established models of developed economies. In this study, we sought to explore various types of entrepreneurial models that are prevalent in an emerging market. For this purpose, we collected primary and secondary data to identify characteristics of technology-based entrepreneurial firms in India. Based on the two dimensions of degree of demand/supply and expected loss/risk, we identify four models of entrepreneurship – incremental, proactive, radical, and reactive – and illustrate each model with examples from Indian companies. ', 'address': 'Ottawa', 'author': 'Shiv S Tripathi and Mita Brahma', 'doi': 'http://doi.org/10.22215/timreview/1131', 'entrytype': 'article', 'id': 1131, 'issn': '1927-0321', 'journal': 'Technology Innovation Management Review', 'keywords': 'emerging markets, entrepreneurship, India, models, technology, typology', 'month': '01', 'pages': '24-32', 'publisher': 'Talent First Network', 'title': 'Technology Entrepreneurship in Emerging Markets: An Exploration of Entrepreneurial Models Prevalent in India', 'type': ' ', 'url': 'https://timreview.ca/article/1131', 'volume': '8', 'year': 2018}\n",
      "page_content='Defining Technology Entrepreneurship\n",
      "\n",
      "The field of technology entrepreneurship is in its infancy when compared to other fields such as economics, entrepreneurship, and management.  However, we are at a point where we can leverage the insights contributed by previous work to create a clearer working definition of technology entrepreneurship.\n",
      "\n",
      "This article proposes a general definition that identifies the distinctive characteristics of technology entrepreneurship and describes its links with the fields of economics, entrepreneurship, and management. The proposed formal definition of technology entrepreneurship should prove valuable in adding to our understanding of how entrepreneurship functions in a firm that invests in projects that are interdependent with advances in science and technology.\n",
      "\n",
      "The following definition of technology entrepreneurship is proposed:' metadata={'abstract': 'Technology entrepreneurship lies at the heart of many important debates, including those around launching and growing firms, regional economic development, selecting the appropriate stakeholders to take ideas to markets, and educating managers, engineers, and scientists. Unless a generally accepted definition of technology entrepreneurship is established, however, these debates lose their focus.\\n\\nThe purpose of this article is to identify the themes that dominate the technology entrepreneurship literature, provide a definition of technology entrepreneurship, and identify its distinguishing aspects relative to economics, entrepreneurship, and management. \\n\\nThe author argues that technology entrepreneurship is an investment in a project that assembles and deploys specialized individuals and heterogeneous assets to create and capture value for the firm. What distinguishes technology entrepreneurship from other entrepreneurship types (e.g., social entrepreneurship, small business management, and self-employment) is the collaborative experimentation and production of new products, assets, and their attributes, which are intricately related to advances in scientific and technological knowledge and the firm\\\\textquoterights asset ownership rights. ', 'address': 'Ottawa', 'author': 'Tony Bailetti', 'doi': 'http://doi.org/10.22215/timreview/520', 'entrytype': 'article', 'id': 520, 'issn': '1927-0321', 'journal': 'Technology Innovation Management Review', 'keywords': 'entrepreneurs, entrepreneurship, technology entrepreneurs, technology entrepreneurship', 'month': '02', 'pages': '5-12', 'publisher': 'Talent First Network', 'title': 'Technology Entrepreneurship: Overview, Definition, and Distinctive Aspects', 'type': ' ', 'url': 'https://timreview.ca/article/520', 'volume': '2', 'year': 2012}\n",
      "page_content='The process of technology entrepreneurship is about recognizing, creating, and exploiting opportunities, and assembling resources around a technological solution, irrespective of the organizational context (Bailetti, 2012; Ratinho et al., 2015; Spiegel & Marxt, 2011). The technological solution opens up new possibilities, it allows the reduction of transactional costs (Williamson, 2005), and it has the ability to use new a technology product paradigm to provide a solution to a market gap (Ratinho et al., 2015). Technology entrepreneurship differs from general entrepreneurship in that it focuses on technological opportunities that require deep technological as well as managerial capabilities (Prahalad & Hamel, 1990; Walsh & Linton, 2011). In other words, it requires a higher level of technical capabilities and management of a risky environment (Harms & Walsh, 2015)' metadata={'abstract': 'Are the features and processes of entrepreneurship – such as wealth creation, risk taking, vision, identification of a niche market, launching new products, and so on – common across the world? Many would assume they would be. However, firms that are entrepreneurial in nature and belong to emerging markets may or may not follow the established models of developed economies. In this study, we sought to explore various types of entrepreneurial models that are prevalent in an emerging market. For this purpose, we collected primary and secondary data to identify characteristics of technology-based entrepreneurial firms in India. Based on the two dimensions of degree of demand/supply and expected loss/risk, we identify four models of entrepreneurship – incremental, proactive, radical, and reactive – and illustrate each model with examples from Indian companies. ', 'address': 'Ottawa', 'author': 'Shiv S Tripathi and Mita Brahma', 'doi': 'http://doi.org/10.22215/timreview/1131', 'entrytype': 'article', 'id': 1131, 'issn': '1927-0321', 'journal': 'Technology Innovation Management Review', 'keywords': 'emerging markets, entrepreneurship, India, models, technology, typology', 'month': '01', 'pages': '24-32', 'publisher': 'Talent First Network', 'title': 'Technology Entrepreneurship in Emerging Markets: An Exploration of Entrepreneurial Models Prevalent in India', 'type': ' ', 'url': 'https://timreview.ca/article/1131', 'volume': '8', 'year': 2018}\n",
      "page_content='Introduction\n",
      "\n",
      "Technology entrepreneurship is a vehicle that facilitates prosperity in individuals, firms, regions, and nations. The study of technology entrepreneurship therefore, serves an important function beyond satisfying intellectual curiosity.\n",
      "\n",
      "Previous definitions from the literature do not explore and identify: the ultimate outcome of technology entrepreneurship; the target of the ultimate outcomes; the mechanism used to deliver the ultimate outcomes; or the nature of the interdependence between technology entrepreneurship and scientific and technological advances. Moreover, a new definition should explicitly link technology entrepreneurship to the theory of the firm, entrepreneurship theory, and management theory.' metadata={'abstract': 'Technology entrepreneurship lies at the heart of many important debates, including those around launching and growing firms, regional economic development, selecting the appropriate stakeholders to take ideas to markets, and educating managers, engineers, and scientists. Unless a generally accepted definition of technology entrepreneurship is established, however, these debates lose their focus.\\n\\nThe purpose of this article is to identify the themes that dominate the technology entrepreneurship literature, provide a definition of technology entrepreneurship, and identify its distinguishing aspects relative to economics, entrepreneurship, and management. \\n\\nThe author argues that technology entrepreneurship is an investment in a project that assembles and deploys specialized individuals and heterogeneous assets to create and capture value for the firm. What distinguishes technology entrepreneurship from other entrepreneurship types (e.g., social entrepreneurship, small business management, and self-employment) is the collaborative experimentation and production of new products, assets, and their attributes, which are intricately related to advances in scientific and technological knowledge and the firm\\\\textquoterights asset ownership rights. ', 'address': 'Ottawa', 'author': 'Tony Bailetti', 'doi': 'http://doi.org/10.22215/timreview/520', 'entrytype': 'article', 'id': 520, 'issn': '1927-0321', 'journal': 'Technology Innovation Management Review', 'keywords': 'entrepreneurs, entrepreneurship, technology entrepreneurs, technology entrepreneurship', 'month': '02', 'pages': '5-12', 'publisher': 'Talent First Network', 'title': 'Technology Entrepreneurship: Overview, Definition, and Distinctive Aspects', 'type': ' ', 'url': 'https://timreview.ca/article/520', 'volume': '2', 'year': 2012}\n",
      "page_content='Introduction\n",
      "\n",
      "Technology entrepreneurship is an investment in a project that assembles and deploys specialized individuals and heterogeneous assets that are intricately related to advances in scientific and technological knowledge for the purpose of creating and capturing value for a firm (Bailetti, 2012).  Technology entrepreneurship applies equally well to newly formed or established firms as well as firms of any size.\n",
      "\n",
      "The study of technology entrepreneurship serves an important function beyond satisfying intellectual curiosity. Technology entrepreneurship is necessary for growth, differentiation, and competitive advantage at the firm, regional, and national levels (Bailetti, 2012).' metadata={'abstract': 'The field of technology entrepreneurship is in its infancy when compared to other fields such as economics and management. Articles on technology entrepreneurship have been published in at least 62 journals, of which only 18 contribute to technology innovation management or entrepreneurship. Less than a handful of these 62 journals are considered to be \"good\" journals and none can claim a leadership position in technology entrepreneurship. The purpose of this article is to provide an overview of the 20 journal articles published in the February, March, April, and May 2012 issues of the Technology Innovation Management Review (TIM Review).', 'address': 'Ottawa', 'author': 'Tony Bailetti and Sonia D. Bot and Tom Duxbury and David Hudson and Chris McPhee and Steven Muegge and Michael Weiss and Jonathan Wells and Mika Westerlund', 'doi': 'http://doi.org/10.22215/timreview/557', 'entrytype': 'article', 'id': 557, 'issn': '1927-0321', 'journal': 'Technology Innovation Management Review', 'keywords': 'creative destruction, global entrepreneurship, journal articles, social entrepreneurship, technology entrepreneurship, theory', 'month': '05', 'pages': '28-34', 'publisher': 'Talent First Network', 'title': 'An Overview of Four Issues on Technology Entrepreneurship in the TIM Review', 'type': ' ', 'url': 'https://timreview.ca/article/557', 'volume': '2', 'year': 2012}\n",
      "*************** Retrieval ***************\n",
      "Query: business model\n",
      "Number of documents retrieved: 5\n",
      "Documents:\n",
      "page_content='According to Morris, Schindehutte, and Allen (2005), there is no generally accepted definition for the term \"business model\". The diversity in definitions “poses substantive challenges for delimiting the nature and components of a model and determining what constitutes a good model. It also leads to confusion in terminology, as business model, strategy, business concept, revenue model, and economic model are often used interchangeably. Moreover, the business model has been referred to as an architecture, design, pattern, plan, method, assumption, and statement” (Morris et al., 2005). A simple definition of business model comes from Stewart and Zhao (2000), who define it as a statement of how a firm will make money and sustain its profit stream over time. According to Osterwalder and Pigneur (2010), a business model describes the rationale of how an organization creates, delivers, and captures value' metadata={'abstract': 'This article reports on a research project aimed at developing a business model by changing the value-creation mechanism. The essence of this change is to persuade customers to perform actions in favour of the service provider. Such actions include responding to advertising clips to unlock value. The business model was generated from the concept of audience commodification and is based on the idea of looking at users as a source of a tradeable asset in business-to-business markets. Here, attention and actions are the assets that users pay to access the proposed value. The research includes two phases of surveys and experimentation. In the first phase, the tendency and acceptance level of users towards watching advertisements to unlock value are measured. In the next phase, a platform prototype is developed to test and understand user actions towards receiving value. The sample includes 52 users of different nationalities who were seeking relationships on an online dating platform. Results revealed that users accept advertising and will perform requested actions if they can perceive the delivered value. Practical implications of this research include insights to help move away from the current “view-based” advertising model toward new models of partnership with users in the value-creation process. This research may also stimulate further research into developing sustainable business models based on advertising revenue. ', 'address': 'Ottawa', 'author': 'Datis Khajeheian', 'doi': 'http://doi.org/10.22215/timreview/1010', 'entrytype': 'article', 'id': 1010, 'issn': '1927-0321', 'journal': 'Technology Innovation Management Review', 'keywords': 'audience commodification, business model, innovation, technology entrepreneurship, value marketing', 'month': '08', 'pages': '40-47', 'publisher': 'Talent First Network', 'title': 'Audience Commodification: A Source of Innovation in Business Models', 'type': ' ', 'url': 'https://timreview.ca/article/1010', 'volume': '6', 'year': 2016}\n",
      "page_content='Business model innovation' metadata={'abstract': 'Innovation is viewed as indispensable to the economic and social development of countries, and the subject has been widely researched. The initial research focused on the development of new products and services by firms applying technological initiatives. The concept has expanded to cover many domains and features of innovation that led to innovation in non-technological areas, currently referred to as “management innovation”. Many tools were developed by management specialists and gurus such as strategic planning, vision and mission statements, benchmarking, customer-satisfaction measurement, and outsourcing to target performance improvements in firms. The output of this article is a project development planning model that integrates management innovation tools related to the field of project planning as a novel approach tested by a consulting firm over several applications. The article has implications for managers, consultants, and professionals involved in the design, planning, and implementation of a varied range of development projects.', 'address': 'Ottawa', 'author': 'Haven Allahar', 'doi': 'http://doi.org/10.22215/timreview/1245', 'entrytype': 'article', 'id': 1245, 'issn': '1927-0321', 'journal': 'Technology Innovation Management Review', 'keywords': 'innovation, management innovation, management innovation tools, scenario planning, strategic foresight', 'month': '06', 'pages': '4-13', 'publisher': 'Talent First Network', 'title': 'A Management Innovation Approach to Project Planning', 'type': ' ', 'url': 'https://timreview.ca/article/1245', 'volume': '9', 'year': 2019}\n",
      "page_content='Business model context\n",
      "\n",
      "Although there is general agreement that business models outline a firm’s value creation, capture, and delivery mechanisms, there are a variety of definitions. One states that “a business model is the design of organizational structures to enact a commercial opportunity” (George & Bock, 2011); another indicates that, “whenever a business enterprise is established, it either explicitly or implicitly employs a particular business model that describes the design or architecture of the value creation, delivery, and capture mechanisms it employs” (Teece, 2010). Mitchell and Coles (2003) represented a practitioner perspective in stating that “a business model comprises the combined elements of ‘who’, ‘what’, ‘when’, ‘why’, ‘where’, ‘how’, and ‘how much’ involved in providing customers and end users with products and services”.' metadata={'abstract': 'In this article, we view business models as complex deal-making activity systems organized to create, deliver, and capture value. Unlike some other viewpoints, we emphasize both system components and their interconnection. Business activities are carried out by a network of actors drawing on a network of resources, and individual firms seek to configure these intersecting networks to enhance their competitive positioning. The business model literature refers to the significance of antecedent activities in providing context – opportunities the firm decides to pursue, the strategy adopted, and requisite capabilities. Drawing on this literature, we propose an approach to framing business model context. Drawing on the information systems literature, we identify a toolkit facilitating activity system architecture design. We suggest how this both draws out the underlying complexity of a business model and shows how a multiplicity of views makes sense.', 'address': 'Ottawa', 'author': 'Ronald C. Beckett and John Dalrymple', 'doi': 'http://doi.org/10.22215/timreview/1252', 'entrytype': 'article', 'id': 1252, 'issn': '1927-0321', 'journal': 'Technology Innovation Management Review', 'keywords': 'activity theory, architecture, business model, business networks, design, dynamic capabilities, ISO/IEC 42010, multiple viewpoints, relationship matrix, strategy, Zachman framework', 'month': '07', 'pages': '16-27', 'publisher': 'Talent First Network', 'title': 'Business Model Architecture by Design', 'type': ' ', 'url': 'https://timreview.ca/article/1252', 'volume': '9', 'year': 2019}\n",
      "page_content='Adopting the strategic view, a business model is important to enable a company’s plans to create and capture value that spans the internal/external boundaries of the firm and its industry (Amit & Zott, 2001; Zott & Amit, 2010). Business model activities (for example, value-chain activities, customer segments, choice of products, services, and revenue mechanisms) involve human, physical and/or capital resources that link value creation with value capture to exploit business opportunities for the parties involved (Chesbrough & Rosenbloom, 2002; Zott & Amit, 2010).' metadata={'abstract': 'The purpose of this research is to introduce and apply a novel approach  for developing business model innovation. It shows step-by-step how to envision and create business model innovation activities. The data was collected through a case study of a European provider of technical services in the electricity and telecommunications network industry, which is coping with the uncertainty and complexity of emerging fifth generation mobile communications networks (5G) and subsequently the transformation of telecom markets. This paper contributes to the intersection of strategic foresight and business model innovation by synthesizing existing knowledge and in-depth case evidence to demonstrate how business model innovation is developed in the context of emerging disruptive technologies using future-oriented methods.', 'address': 'Ottawa', 'author': 'Sara Moqaddamerad', 'doi': 'http://doi.org/10.22215/timreview/1406', 'entrytype': 'article', 'id': 1406, 'issn': '1927-0321', 'journal': 'Technology Innovation Management Review', 'keywords': ' ', 'month': '12', 'pages': '4-18', 'publisher': 'Talent First Network', 'title': 'Visioning Business Model Innovation for Emerging 5G Mobile Communications Networks', 'type': ' ', 'url': 'https://timreview.ca/article/1406', 'volume': '10', 'year': 2020}\n",
      "page_content='. In a more detailed explanation, Chesbrough (2010) defines a business model by the following characteristics: “It articulates the value proposition; identifies a market segment and specify the revenue generation mechanism; defines the structure of the value chain required to create and distribute the offering and complementary assets needed to support position in the chain; details the revenue mechanism(s) by which the firm will be paid for the offering; estimates the cost structure and profit potential (given value proposition and value chain structure); describes the position of the firm within the value network linking suppliers and customers (including identifying potential complementors and competitors); and formulates the competitive strategy by which the innovating firm will gain and hold advantage over rivals.” Although different researchers argue that there is limited attention to a definition of business model (Chesbrough, 2007; Falkinger, 2008; Zott & Amit, 2008), the different definitions agree' metadata={'abstract': 'This article reports on a research project aimed at developing a business model by changing the value-creation mechanism. The essence of this change is to persuade customers to perform actions in favour of the service provider. Such actions include responding to advertising clips to unlock value. The business model was generated from the concept of audience commodification and is based on the idea of looking at users as a source of a tradeable asset in business-to-business markets. Here, attention and actions are the assets that users pay to access the proposed value. The research includes two phases of surveys and experimentation. In the first phase, the tendency and acceptance level of users towards watching advertisements to unlock value are measured. In the next phase, a platform prototype is developed to test and understand user actions towards receiving value. The sample includes 52 users of different nationalities who were seeking relationships on an online dating platform. Results revealed that users accept advertising and will perform requested actions if they can perceive the delivered value. Practical implications of this research include insights to help move away from the current “view-based” advertising model toward new models of partnership with users in the value-creation process. This research may also stimulate further research into developing sustainable business models based on advertising revenue. ', 'address': 'Ottawa', 'author': 'Datis Khajeheian', 'doi': 'http://doi.org/10.22215/timreview/1010', 'entrytype': 'article', 'id': 1010, 'issn': '1927-0321', 'journal': 'Technology Innovation Management Review', 'keywords': 'audience commodification, business model, innovation, technology entrepreneurship, value marketing', 'month': '08', 'pages': '40-47', 'publisher': 'Talent First Network', 'title': 'Audience Commodification: A Source of Innovation in Business Models', 'type': ' ', 'url': 'https://timreview.ca/article/1010', 'volume': '6', 'year': 2016}\n",
      "\n",
      "********************************************************************************\n",
      "\n"
     ]
    },
    {
     "data": {
      "text/markdown": [
       "Based on the provided documents, here's information on technology entrepreneurship and business models:\n",
       "\n",
       "*Technology Entrepreneurship:*\n",
       "\n",
       "While the query asks about technology entrepreneurship, only one document mentions it explicitly as a keyword (Khajeheian, 2016). However, the document focuses on audience commodification as a source of innovation in business models, not on defining technology entrepreneurship itself. Therefore, the documents do not provide a direct definition of technology entrepreneurship.\n",
       "\n",
       "*Business Model:*\n",
       "\n",
       "There is no universally accepted definition of a \"business model\" (Morris et al., 2005). The terms business model, strategy, business concept, revenue model, and economic model are often used interchangeably, which leads to confusion in terminology. The business model has been referred to as an architecture, design, pattern, plan, method, assumption, and statement (Morris et al., 2005).\n",
       "\n",
       "Here are some definitions of a business model from the documents:\n",
       "\n",
       "*   A statement of how a firm will make money and sustain its profit stream over time (Stewart & Zhao, 2000).\n",
       "*   The rationale of how an organization creates, delivers, and captures value (Osterwalder & Pigneur, 2010).\n",
       "*   The design of organizational structures to enact a commercial opportunity (George & Bock, 2011).\n",
       "*   The design or architecture of the value creation, delivery, and capture mechanisms a business employs (Teece, 2010).\n",
       "*   The combined elements of ‘who’, ‘what’, ‘when’, ‘why’, ‘where’, ‘how’, and ‘how much’ involved in providing customers and end users with products and services (Mitchell & Coles, 2003).\n",
       "*   A company’s plans to create and capture value that spans the internal/external boundaries of the firm and its industry (Amit & Zott, 2001; Zott & Amit, 2010).\n",
       "*   It articulates the value proposition; identifies a market segment and specify the revenue generation mechanism; defines the structure of the value chain required to create and distribute the offering and complementary assets needed to support position in the chain; details the revenue mechanism(s) by which the firm will be paid for the offering; estimates the cost structure and profit potential (given value proposition and value chain structure); describes the position of the firm within the value network linking suppliers and customers (including identifying potential complementors and competitors); and formulates the competitive strategy by which the innovating firm will gain and hold advantage over rivals (Chesbrough, 2010).\n",
       "\n",
       "Business model activities (e.g., value-chain activities, customer segments, choice of products, services, and revenue mechanisms) involve human, physical and/or capital resources that link value creation with value capture to exploit business opportunities for the parties involved (Chesbrough & Rosenbloom, 2002; Zott & Amit, 2010).\n",
       "\n",
       "*Reference*\n",
       "\n",
       "Amit, R., & Zott, C. (2001). Value creation in e-business. _Strategic Management Journal, 22_(6-7), 493-520.\n",
       "\n",
       "Beckett, R. C., & Dalrymple, J. (2019). Business Model Architecture by Design. _Technology Innovation Management Review, 9_(7), 16-27. https://doi.org/10.22215/timreview/1252\n",
       "\n",
       "Chesbrough, H. (2010). Business model innovation: Opportunities and barriers. _Long Range Planning, 43_(2-3), 354-363.\n",
       "\n",
       "Chesbrough, H. W., & Rosenbloom, R. S. (2002). The role of the business model in capturing value from innovation: evidence from Xerox Corporation’s technology spin-off companies. _Industrial and Corporate Change, 11_(3), 529-555.\n",
       "\n",
       "George, G., & Bock, A. J. (2011). The business model in practice and its implications for entrepreneurship research. _Entrepreneurship Theory and Practice, 35_(1), 83-111.\n",
       "\n",
       "Khajeheian, D. (2016). Audience Commodification: A Source of Innovation in Business Models. _Technology Innovation Management Review, 6_(8), 40-47. https://doi.org/10.22215/timreview/1010\n",
       "\n",
       "Mitchell, D. W., & Coles, C. B. (2003). The ultimate competitive advantage: Creating the high-performance company. _Harvard Business Press_.\n",
       "\n",
       "Moqaddamerad, S. (2020). Visioning Business Model Innovation for Emerging 5G Mobile Communications Networks. _Technology Innovation Management Review, 10_(12), 4-18. https://doi.org/10.22215/timreview/1406\n",
       "\n",
       "Morris, M., Schindehutte, M., & Allen, J. (2005). The entrepreneur’s business model: toward a unified perspective. _Journal of Business Research, 58_(6), 726-735.\n",
       "\n",
       "Osterwalder, A., & Pigneur, Y. (2010). _Business model generation: a handbook for visionaries, game changers, and challengers_. John Wiley & Sons.\n",
       "\n",
       "Stewart, T. A., & Zhao, M. (2000). Strategy in the new economy. _Fortune, 141_(7), 153-156.\n",
       "\n",
       "Teece, D. J. (2010). Business models, business strategy and innovation. _Long range planning, 43_(2-3), 172-194.\n",
       "\n",
       "Zott, C., & Amit, R. (2010). Business model design: an activity system perspective. _Long range planning, 43_(2-3), 216-226.\n"
      ],
      "text/plain": [
       "<IPython.core.display.Markdown object>"
      ]
     },
     "metadata": {},
     "output_type": "display_data"
    }
   ],
   "source": [
    "if __name__ == \"__main__\": \n",
    "    response = graph.invoke({\"query\": \"what is technology entrepreneurship and business model?\"})\n",
    "    print('\\n'+\"*\"*80+'\\n')\n",
    "    display(Markdown(response['messages'][-1].content))"
   ]
  },
  {
   "cell_type": "code",
   "execution_count": 31,
   "metadata": {},
   "outputs": [
    {
     "name": "stdout",
     "output_type": "stream",
     "text": [
      "Based on the provided documents, here's information on technology entrepreneurship and business models:\n",
      "\n",
      "*Technology Entrepreneurship:*\n",
      "\n",
      "While the query asks about technology entrepreneurship, only one document mentions it explicitly as a keyword (Khajeheian, 2016). However, the document focuses on audience commodification as a source of innovation in business models, not on defining technology entrepreneurship itself. Therefore, the documents do not provide a direct definition of technology entrepreneurship.\n",
      "\n",
      "*Business Model:*\n",
      "\n",
      "There is no universally accepted definition of a \"business model\" (Morris et al., 2005). The terms business model, strategy, business concept, revenue model, and economic model are often used interchangeably, which leads to confusion in terminology. The business model has been referred to as an architecture, design, pattern, plan, method, assumption, and statement (Morris et al., 2005).\n",
      "\n",
      "Here are some definitions of a business model from the documents:\n",
      "\n",
      "*   A statement of how a firm will make money and sustain its profit stream over time (Stewart & Zhao, 2000).\n",
      "*   The rationale of how an organization creates, delivers, and captures value (Osterwalder & Pigneur, 2010).\n",
      "*   The design of organizational structures to enact a commercial opportunity (George & Bock, 2011).\n",
      "*   The design or architecture of the value creation, delivery, and capture mechanisms a business employs (Teece, 2010).\n",
      "*   The combined elements of ‘who’, ‘what’, ‘when’, ‘why’, ‘where’, ‘how’, and ‘how much’ involved in providing customers and end users with products and services (Mitchell & Coles, 2003).\n",
      "*   A company’s plans to create and capture value that spans the internal/external boundaries of the firm and its industry (Amit & Zott, 2001; Zott & Amit, 2010).\n",
      "*   It articulates the value proposition; identifies a market segment and specify the revenue generation mechanism; defines the structure of the value chain required to create and distribute the offering and complementary assets needed to support position in the chain; details the revenue mechanism(s) by which the firm will be paid for the offering; estimates the cost structure and profit potential (given value proposition and value chain structure); describes the position of the firm within the value network linking suppliers and customers (including identifying potential complementors and competitors); and formulates the competitive strategy by which the innovating firm will gain and hold advantage over rivals (Chesbrough, 2010).\n",
      "\n",
      "Business model activities (e.g., value-chain activities, customer segments, choice of products, services, and revenue mechanisms) involve human, physical and/or capital resources that link value creation with value capture to exploit business opportunities for the parties involved (Chesbrough & Rosenbloom, 2002; Zott & Amit, 2010).\n",
      "\n",
      "*Reference*\n",
      "\n",
      "Amit, R., & Zott, C. (2001). Value creation in e-business. _Strategic Management Journal, 22_(6-7), 493-520.\n",
      "\n",
      "Beckett, R. C., & Dalrymple, J. (2019). Business Model Architecture by Design. _Technology Innovation Management Review, 9_(7), 16-27. https://doi.org/10.22215/timreview/1252\n",
      "\n",
      "Chesbrough, H. (2010). Business model innovation: Opportunities and barriers. _Long Range Planning, 43_(2-3), 354-363.\n",
      "\n",
      "Chesbrough, H. W., & Rosenbloom, R. S. (2002). The role of the business model in capturing value from innovation: evidence from Xerox Corporation’s technology spin-off companies. _Industrial and Corporate Change, 11_(3), 529-555.\n",
      "\n",
      "George, G., & Bock, A. J. (2011). The business model in practice and its implications for entrepreneurship research. _Entrepreneurship Theory and Practice, 35_(1), 83-111.\n",
      "\n",
      "Khajeheian, D. (2016). Audience Commodification: A Source of Innovation in Business Models. _Technology Innovation Management Review, 6_(8), 40-47. https://doi.org/10.22215/timreview/1010\n",
      "\n",
      "Mitchell, D. W., & Coles, C. B. (2003). The ultimate competitive advantage: Creating the high-performance company. _Harvard Business Press_.\n",
      "\n",
      "Moqaddamerad, S. (2020). Visioning Business Model Innovation for Emerging 5G Mobile Communications Networks. _Technology Innovation Management Review, 10_(12), 4-18. https://doi.org/10.22215/timreview/1406\n",
      "\n",
      "Morris, M., Schindehutte, M., & Allen, J. (2005). The entrepreneur’s business model: toward a unified perspective. _Journal of Business Research, 58_(6), 726-735.\n",
      "\n",
      "Osterwalder, A., & Pigneur, Y. (2010). _Business model generation: a handbook for visionaries, game changers, and challengers_. John Wiley & Sons.\n",
      "\n",
      "Stewart, T. A., & Zhao, M. (2000). Strategy in the new economy. _Fortune, 141_(7), 153-156.\n",
      "\n",
      "Teece, D. J. (2010). Business models, business strategy and innovation. _Long range planning, 43_(2-3), 172-194.\n",
      "\n",
      "Zott, C., & Amit, R. (2010). Business model design: an activity system perspective. _Long range planning, 43_(2-3), 216-226.\n",
      "\n"
     ]
    }
   ],
   "source": [
    "#print(response['messages'][-1].content)"
   ]
  },
  {
   "cell_type": "code",
   "execution_count": 14,
   "metadata": {},
   "outputs": [
    {
     "name": "stdout",
     "output_type": "stream",
     "text": [
      "<IPython.core.display.Markdown object>\n"
     ]
    }
   ],
   "source": []
  },
  {
   "cell_type": "code",
   "execution_count": null,
   "metadata": {},
   "outputs": [],
   "source": []
  }
 ],
 "metadata": {
  "kernelspec": {
   "display_name": "tim-review",
   "language": "python",
   "name": "python3"
  },
  "language_info": {
   "codemirror_mode": {
    "name": "ipython",
    "version": 3
   },
   "file_extension": ".py",
   "mimetype": "text/x-python",
   "name": "python",
   "nbconvert_exporter": "python",
   "pygments_lexer": "ipython3",
   "version": "3.11.11"
  }
 },
 "nbformat": 4,
 "nbformat_minor": 2
}
